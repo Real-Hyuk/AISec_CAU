{
  "nbformat": 4,
  "nbformat_minor": 0,
  "metadata": {
    "colab": {
      "name": "Untitled0.ipynb",
      "provenance": [],
      "collapsed_sections": [],
      "authorship_tag": "ABX9TyMZ0Dtzd4K0m+XYDZcbg6VU",
      "include_colab_link": true
    },
    "kernelspec": {
      "name": "python3",
      "display_name": "Python 3"
    }
  },
  "cells": [
    {
      "cell_type": "markdown",
      "metadata": {
        "id": "view-in-github",
        "colab_type": "text"
      },
      "source": [
        "<a href=\"https://colab.research.google.com/github/Real-Hyuk/AISec_CAU/blob/master/0917_%EA%B3%BC%EC%A0%9C.ipynb\" target=\"_parent\"><img src=\"https://colab.research.google.com/assets/colab-badge.svg\" alt=\"Open In Colab\"/></a>"
      ]
    },
    {
      "cell_type": "code",
      "metadata": {
        "id": "qNHlMPL93miB",
        "colab_type": "code",
        "colab": {}
      },
      "source": [
        "import tensorflow as tf\n",
        "import keras \n",
        "\n",
        "from keras.models import Sequential\n",
        "from keras.layers import Conv2D, MaxPooling2D, Dense, Flatten, AveragePooling2D\n",
        "from keras.optimizers import Adam\n",
        "from keras.losses import sparse_categorical_crossentropy as scc\n",
        "from keras.datasets import cifar10\n",
        "\n",
        "import numpy as np"
      ],
      "execution_count": 4,
      "outputs": []
    },
    {
      "cell_type": "code",
      "metadata": {
        "id": "tpQv8QDeWt_v",
        "colab_type": "code",
        "colab": {}
      },
      "source": [
        "def build_model(width, height, channel):\n",
        "    model = Sequential()\n",
        "    \n",
        "    model.add(Conv2D(\n",
        "        filters = 16,\n",
        "        kernel_size = (3,3),\n",
        "        padding = 'same',\n",
        "        activation = 'relu',\n",
        "        input_shape = (width, height, channel)\n",
        "    ))\n",
        "\n",
        "    model.add(Conv2D(\n",
        "        filters = 16,\n",
        "        kernel_size = (3,3),\n",
        "        padding = 'same',\n",
        "        activation = 'relu'\n",
        "    ))\n",
        "\n",
        "    model.add(MaxPooling2D(\n",
        "        pool_size = (2,2),\n",
        "        padding = 'same'\n",
        "    ))\n",
        "\n",
        "    model.add(Conv2D(\n",
        "        filters = 32,\n",
        "        kernel_size = (3,3),\n",
        "        padding = 'same',\n",
        "        activation = 'relu'\n",
        "    ))\n",
        "\n",
        "    model.add(MaxPooling2D(\n",
        "        pool_size = (2,2),\n",
        "        padding = 'same'\n",
        "    ))\n",
        "\n",
        "    model.add(Conv2D(\n",
        "        filters = 64,\n",
        "        kernel_size = (3,3),\n",
        "        padding = 'same',\n",
        "        activation = 'relu'\n",
        "    ))\n",
        "\n",
        "    model.add(AveragePooling2D(\n",
        "        pool_size = (8,8),\n",
        "        padding = 'same'\n",
        "    ))\n",
        "\n",
        "    model.add(Flatten())\n",
        "\n",
        "    model.add(Dense(\n",
        "        units = 640,\n",
        "        activation = 'relu'\n",
        "    ))\n",
        "\n",
        "    model.add(Dense(\n",
        "        units = 10,\n",
        "        activation = 'softmax'\n",
        "    ))\n",
        "\n",
        "    opt = Adam(learning_rate=0.001)\n",
        "    \n",
        "    model.compile(\n",
        "        optimizer = opt,\n",
        "        loss = scc,\n",
        "        metrics = ['accuracy']\n",
        "    )\n",
        "\n",
        "    return model"
      ],
      "execution_count": 5,
      "outputs": []
    },
    {
      "cell_type": "code",
      "metadata": {
        "id": "C8zy8z4hWvXu",
        "colab_type": "code",
        "colab": {
          "base_uri": "https://localhost:8080/",
          "height": 428
        },
        "outputId": "0bd56a94-5778-4925-8bfc-9191af24fa1f"
      },
      "source": [
        "(X_train, Y_train), (X_test, Y_test) = cifar10.load_data()\n",
        "\n",
        "\n",
        "model = build_model(X_train.shape[1],X_train.shape[2],X_train.shape[3])\n",
        "\n",
        "hist = model.fit(\n",
        "    X_train, Y_train, \n",
        "    batch_size = 16, epochs = 10, \n",
        "    verbose = 1, \n",
        "    shuffle = True, validation_split = 0.1\n",
        ")\n",
        "\n",
        "model.evaluate(X_test, Y_test, verbose=1)"
      ],
      "execution_count": 11,
      "outputs": [
        {
          "output_type": "stream",
          "text": [
            "Epoch 1/10\n",
            "2813/2813 [==============================] - 98s 35ms/step - loss: 1.5384 - accuracy: 0.4282 - val_loss: 1.2873 - val_accuracy: 0.5450\n",
            "Epoch 2/10\n",
            "2813/2813 [==============================] - 104s 37ms/step - loss: 1.1621 - accuracy: 0.5816 - val_loss: 1.1810 - val_accuracy: 0.5806\n",
            "Epoch 3/10\n",
            "2813/2813 [==============================] - 99s 35ms/step - loss: 1.0115 - accuracy: 0.6426 - val_loss: 0.9908 - val_accuracy: 0.6524\n",
            "Epoch 4/10\n",
            "2813/2813 [==============================] - 99s 35ms/step - loss: 0.9214 - accuracy: 0.6728 - val_loss: 0.8990 - val_accuracy: 0.6892\n",
            "Epoch 5/10\n",
            "2813/2813 [==============================] - 99s 35ms/step - loss: 0.8475 - accuracy: 0.7035 - val_loss: 0.9569 - val_accuracy: 0.6830\n",
            "Epoch 6/10\n",
            "2813/2813 [==============================] - 98s 35ms/step - loss: 0.8017 - accuracy: 0.7199 - val_loss: 0.9198 - val_accuracy: 0.6916\n",
            "Epoch 7/10\n",
            "2813/2813 [==============================] - 99s 35ms/step - loss: 0.7572 - accuracy: 0.7340 - val_loss: 0.8549 - val_accuracy: 0.7034\n",
            "Epoch 8/10\n",
            "2813/2813 [==============================] - 104s 37ms/step - loss: 0.7221 - accuracy: 0.7468 - val_loss: 0.9008 - val_accuracy: 0.7008\n",
            "Epoch 9/10\n",
            "2813/2813 [==============================] - 99s 35ms/step - loss: 0.6917 - accuracy: 0.7564 - val_loss: 0.8605 - val_accuracy: 0.7056\n",
            "Epoch 10/10\n",
            "2813/2813 [==============================] - 98s 35ms/step - loss: 0.6624 - accuracy: 0.7640 - val_loss: 0.8868 - val_accuracy: 0.7028\n",
            "313/313 [==============================] - 6s 19ms/step - loss: 0.9053 - accuracy: 0.6978\n"
          ],
          "name": "stdout"
        },
        {
          "output_type": "execute_result",
          "data": {
            "text/plain": [
              "[0.9053384065628052, 0.6977999806404114]"
            ]
          },
          "metadata": {
            "tags": []
          },
          "execution_count": 11
        }
      ]
    },
    {
      "cell_type": "code",
      "metadata": {
        "id": "A_akxzUCWxVm",
        "colab_type": "code",
        "colab": {}
      },
      "source": [
        "import matplotlib.pyplot as plt"
      ],
      "execution_count": 12,
      "outputs": []
    },
    {
      "cell_type": "code",
      "metadata": {
        "id": "FPdHbmiCWzU3",
        "colab_type": "code",
        "colab": {
          "base_uri": "https://localhost:8080/",
          "height": 545
        },
        "outputId": "f30e7451-6b9e-4d26-f998-e2cc6bd2ea65"
      },
      "source": [
        "plt.plot(hist.history['loss'])\n",
        "plt.title(\"loss history\")\n",
        "plt.show()\n",
        "\n",
        "plt.plot(hist.history['accuracy'])\n",
        "plt.title(\"acc history\")\n",
        "plt.show()"
      ],
      "execution_count": 13,
      "outputs": [
        {
          "output_type": "display_data",
          "data": {
            "image/png": "[encoded data removed]",
            "text/plain": [
              "<Figure size 432x288 with 1 Axes>"
            ]
          },
          "metadata": {
            "tags": [],
            "needs_background": "light"
          }
        },
        {
          "output_type": "display_data",
          "data": {
            "image/png": "[encoded data removed]",
            "text/plain": [
              "<Figure size 432x288 with 1 Axes>"
            ]
          },
          "metadata": {
            "tags": [],
            "needs_background": "light"
          }
        }
      ]
    }
  ]
}